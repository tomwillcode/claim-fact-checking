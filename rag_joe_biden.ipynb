{
 "cells": [
  {
   "cell_type": "code",
   "execution_count": 143,
   "id": "e42b9f97",
   "metadata": {
    "scrolled": true
   },
   "outputs": [],
   "source": [
    "import re\n",
    "import numpy as np\n",
    "import pandas as pd\n",
    "from sklearn.neighbors import NearestNeighbors\n",
    "from sentence_transformers import SentenceTransformer"
   ]
  },
  {
   "cell_type": "code",
   "execution_count": 144,
   "id": "21afc188",
   "metadata": {},
   "outputs": [],
   "source": [
    "import warnings\n",
    "warnings.filterwarnings('ignore')"
   ]
  },
  {
   "cell_type": "code",
   "execution_count": 145,
   "id": "045c536b",
   "metadata": {},
   "outputs": [],
   "source": [
    "model = SentenceTransformer('sentence-transformers/all-MiniLM-L6-v2')"
   ]
  },
  {
   "cell_type": "code",
   "execution_count": 146,
   "id": "bf34bab2",
   "metadata": {
    "scrolled": false
   },
   "outputs": [
    {
     "data": {
      "text/html": [
       "<div>\n",
       "<style scoped>\n",
       "    .dataframe tbody tr th:only-of-type {\n",
       "        vertical-align: middle;\n",
       "    }\n",
       "\n",
       "    .dataframe tbody tr th {\n",
       "        vertical-align: top;\n",
       "    }\n",
       "\n",
       "    .dataframe thead th {\n",
       "        text-align: right;\n",
       "    }\n",
       "</style>\n",
       "<table border=\"1\" class=\"dataframe\">\n",
       "  <thead>\n",
       "    <tr style=\"text-align: right;\">\n",
       "      <th></th>\n",
       "      <th>url</th>\n",
       "      <th>title</th>\n",
       "      <th>description</th>\n",
       "      <th>maintext</th>\n",
       "      <th>date_publish</th>\n",
       "    </tr>\n",
       "  </thead>\n",
       "  <tbody>\n",
       "    <tr>\n",
       "      <th>0</th>\n",
       "      <td>https://www.cnn.com/2024/01/22/politics/fake-j...</td>\n",
       "      <td>Fake Joe Biden robocall urges New Hampshire vo...</td>\n",
       "      <td>A robocall that appears to be an AI voice rese...</td>\n",
       "      <td>CNN —\\nA robocall that appears to be an AI voi...</td>\n",
       "      <td>2024-01-22 17:13:52</td>\n",
       "    </tr>\n",
       "    <tr>\n",
       "      <th>1</th>\n",
       "      <td>https://www.nytimes.com/2020/05/22/us/politics...</td>\n",
       "      <td>Biden Apologizes for Saying Black Voters ‘Ain’...</td>\n",
       "      <td>The former vice president ignited controversy ...</td>\n",
       "      <td>“I shouldn’t have been such a wise guy,” Mr. B...</td>\n",
       "      <td>2020-05-22 14:41:50</td>\n",
       "    </tr>\n",
       "    <tr>\n",
       "      <th>2</th>\n",
       "      <td>https://www.cnn.com/videos/politics/2020/05/22...</td>\n",
       "      <td>Joe Biden says voters ‘ain’t black’ if they su...</td>\n",
       "      <td>Joe Biden apologized hours after he told a pop...</td>\n",
       "      <td>1. How relevant is this ad to you?\\nVideo play...</td>\n",
       "      <td>2020-05-22 22:26:50</td>\n",
       "    </tr>\n",
       "    <tr>\n",
       "      <th>3</th>\n",
       "      <td>https://www.cnn.com/2020/05/22/politics/biden-...</td>\n",
       "      <td>Biden: ‘If you have a problem figuring out whe...</td>\n",
       "      <td>Joe Biden said he “shouldn’t have been such a ...</td>\n",
       "      <td>CNN —\\nJoe Biden said he “shouldn’t have been ...</td>\n",
       "      <td>2020-05-22 15:17:54</td>\n",
       "    </tr>\n",
       "    <tr>\n",
       "      <th>4</th>\n",
       "      <td>https://www.bbc.com/news/world-us-canada-68064247</td>\n",
       "      <td>Fake Biden robocall tells voters to skip New H...</td>\n",
       "      <td>An investigation is opened into the calls, whi...</td>\n",
       "      <td>Fake Biden robocall tells voters to skip New H...</td>\n",
       "      <td>2024-01-22 23:39:43</td>\n",
       "    </tr>\n",
       "  </tbody>\n",
       "</table>\n",
       "</div>"
      ],
      "text/plain": [
       "                                                 url  \\\n",
       "0  https://www.cnn.com/2024/01/22/politics/fake-j...   \n",
       "1  https://www.nytimes.com/2020/05/22/us/politics...   \n",
       "2  https://www.cnn.com/videos/politics/2020/05/22...   \n",
       "3  https://www.cnn.com/2020/05/22/politics/biden-...   \n",
       "4  https://www.bbc.com/news/world-us-canada-68064247   \n",
       "\n",
       "                                               title  \\\n",
       "0  Fake Joe Biden robocall urges New Hampshire vo...   \n",
       "1  Biden Apologizes for Saying Black Voters ‘Ain’...   \n",
       "2  Joe Biden says voters ‘ain’t black’ if they su...   \n",
       "3  Biden: ‘If you have a problem figuring out whe...   \n",
       "4  Fake Biden robocall tells voters to skip New H...   \n",
       "\n",
       "                                         description  \\\n",
       "0  A robocall that appears to be an AI voice rese...   \n",
       "1  The former vice president ignited controversy ...   \n",
       "2  Joe Biden apologized hours after he told a pop...   \n",
       "3  Joe Biden said he “shouldn’t have been such a ...   \n",
       "4  An investigation is opened into the calls, whi...   \n",
       "\n",
       "                                            maintext         date_publish  \n",
       "0  CNN —\\nA robocall that appears to be an AI voi...  2024-01-22 17:13:52  \n",
       "1  “I shouldn’t have been such a wise guy,” Mr. B...  2020-05-22 14:41:50  \n",
       "2  1. How relevant is this ad to you?\\nVideo play...  2020-05-22 22:26:50  \n",
       "3  CNN —\\nJoe Biden said he “shouldn’t have been ...  2020-05-22 15:17:54  \n",
       "4  Fake Biden robocall tells voters to skip New H...  2024-01-22 23:39:43  "
      ]
     },
     "execution_count": 146,
     "metadata": {},
     "output_type": "execute_result"
    }
   ],
   "source": [
    "df = pd.read_csv('joe_biden_multiple_news_OR.csv')\n",
    "df.head()"
   ]
  },
  {
   "cell_type": "code",
   "execution_count": 147,
   "id": "2c73146c",
   "metadata": {},
   "outputs": [],
   "source": [
    "def split_into_sentences(text):\n",
    "    # Define the regex pattern for sentence splitting\n",
    "    sentence_pattern = r'(?<!\\w\\.\\w.)(?<![A-Z][a-z]\\.)(?<=\\.|\\?)\\s'\n",
    "\n",
    "    # Split the text into sentences using the pattern\n",
    "    sentences = re.split(sentence_pattern, text)\n",
    "\n",
    "    # Print each sentence\n",
    "    return sentences"
   ]
  },
  {
   "cell_type": "code",
   "execution_count": 148,
   "id": "62068d23",
   "metadata": {},
   "outputs": [],
   "source": [
    "sentences = df.maintext.apply(lambda x: x.split('\\n')) # df.maintext.apply(split_into_sentences)\n",
    "sentences = [sentence for lst in sentences for sentence in lst]"
   ]
  },
  {
   "cell_type": "code",
   "execution_count": 149,
   "id": "a4ae437c",
   "metadata": {
    "scrolled": true
   },
   "outputs": [],
   "source": [
    "numbers_of_sentences = df.maintext.apply(lambda x: x.split('\\n')).apply(len)\n",
    "\n",
    "sentence_to_id = []\n",
    "for i, num in enumerate(numbers_of_sentences):\n",
    "    sentence_to_id += [i] * num"
   ]
  },
  {
   "cell_type": "code",
   "execution_count": 150,
   "id": "ae424539",
   "metadata": {},
   "outputs": [],
   "source": [
    "embeddings = model.encode(sentences)"
   ]
  },
  {
   "cell_type": "code",
   "execution_count": 151,
   "id": "90776db1",
   "metadata": {},
   "outputs": [
    {
     "data": {
      "text/html": [
       "<style>#sk-container-id-5 {color: black;}#sk-container-id-5 pre{padding: 0;}#sk-container-id-5 div.sk-toggleable {background-color: white;}#sk-container-id-5 label.sk-toggleable__label {cursor: pointer;display: block;width: 100%;margin-bottom: 0;padding: 0.3em;box-sizing: border-box;text-align: center;}#sk-container-id-5 label.sk-toggleable__label-arrow:before {content: \"▸\";float: left;margin-right: 0.25em;color: #696969;}#sk-container-id-5 label.sk-toggleable__label-arrow:hover:before {color: black;}#sk-container-id-5 div.sk-estimator:hover label.sk-toggleable__label-arrow:before {color: black;}#sk-container-id-5 div.sk-toggleable__content {max-height: 0;max-width: 0;overflow: hidden;text-align: left;background-color: #f0f8ff;}#sk-container-id-5 div.sk-toggleable__content pre {margin: 0.2em;color: black;border-radius: 0.25em;background-color: #f0f8ff;}#sk-container-id-5 input.sk-toggleable__control:checked~div.sk-toggleable__content {max-height: 200px;max-width: 100%;overflow: auto;}#sk-container-id-5 input.sk-toggleable__control:checked~label.sk-toggleable__label-arrow:before {content: \"▾\";}#sk-container-id-5 div.sk-estimator input.sk-toggleable__control:checked~label.sk-toggleable__label {background-color: #d4ebff;}#sk-container-id-5 div.sk-label input.sk-toggleable__control:checked~label.sk-toggleable__label {background-color: #d4ebff;}#sk-container-id-5 input.sk-hidden--visually {border: 0;clip: rect(1px 1px 1px 1px);clip: rect(1px, 1px, 1px, 1px);height: 1px;margin: -1px;overflow: hidden;padding: 0;position: absolute;width: 1px;}#sk-container-id-5 div.sk-estimator {font-family: monospace;background-color: #f0f8ff;border: 1px dotted black;border-radius: 0.25em;box-sizing: border-box;margin-bottom: 0.5em;}#sk-container-id-5 div.sk-estimator:hover {background-color: #d4ebff;}#sk-container-id-5 div.sk-parallel-item::after {content: \"\";width: 100%;border-bottom: 1px solid gray;flex-grow: 1;}#sk-container-id-5 div.sk-label:hover label.sk-toggleable__label {background-color: #d4ebff;}#sk-container-id-5 div.sk-serial::before {content: \"\";position: absolute;border-left: 1px solid gray;box-sizing: border-box;top: 0;bottom: 0;left: 50%;z-index: 0;}#sk-container-id-5 div.sk-serial {display: flex;flex-direction: column;align-items: center;background-color: white;padding-right: 0.2em;padding-left: 0.2em;position: relative;}#sk-container-id-5 div.sk-item {position: relative;z-index: 1;}#sk-container-id-5 div.sk-parallel {display: flex;align-items: stretch;justify-content: center;background-color: white;position: relative;}#sk-container-id-5 div.sk-item::before, #sk-container-id-5 div.sk-parallel-item::before {content: \"\";position: absolute;border-left: 1px solid gray;box-sizing: border-box;top: 0;bottom: 0;left: 50%;z-index: -1;}#sk-container-id-5 div.sk-parallel-item {display: flex;flex-direction: column;z-index: 1;position: relative;background-color: white;}#sk-container-id-5 div.sk-parallel-item:first-child::after {align-self: flex-end;width: 50%;}#sk-container-id-5 div.sk-parallel-item:last-child::after {align-self: flex-start;width: 50%;}#sk-container-id-5 div.sk-parallel-item:only-child::after {width: 0;}#sk-container-id-5 div.sk-dashed-wrapped {border: 1px dashed gray;margin: 0 0.4em 0.5em 0.4em;box-sizing: border-box;padding-bottom: 0.4em;background-color: white;}#sk-container-id-5 div.sk-label label {font-family: monospace;font-weight: bold;display: inline-block;line-height: 1.2em;}#sk-container-id-5 div.sk-label-container {text-align: center;}#sk-container-id-5 div.sk-container {/* jupyter's `normalize.less` sets `[hidden] { display: none; }` but bootstrap.min.css set `[hidden] { display: none !important; }` so we also need the `!important` here to be able to override the default hidden behavior on the sphinx rendered scikit-learn.org. See: https://github.com/scikit-learn/scikit-learn/issues/21755 */display: inline-block !important;position: relative;}#sk-container-id-5 div.sk-text-repr-fallback {display: none;}</style><div id=\"sk-container-id-5\" class=\"sk-top-container\"><div class=\"sk-text-repr-fallback\"><pre>NearestNeighbors(n_neighbors=3)</pre><b>In a Jupyter environment, please rerun this cell to show the HTML representation or trust the notebook. <br />On GitHub, the HTML representation is unable to render, please try loading this page with nbviewer.org.</b></div><div class=\"sk-container\" hidden><div class=\"sk-item\"><div class=\"sk-estimator sk-toggleable\"><input class=\"sk-toggleable__control sk-hidden--visually\" id=\"sk-estimator-id-5\" type=\"checkbox\" checked><label for=\"sk-estimator-id-5\" class=\"sk-toggleable__label sk-toggleable__label-arrow\">NearestNeighbors</label><div class=\"sk-toggleable__content\"><pre>NearestNeighbors(n_neighbors=3)</pre></div></div></div></div></div>"
      ],
      "text/plain": [
       "NearestNeighbors(n_neighbors=3)"
      ]
     },
     "execution_count": 151,
     "metadata": {},
     "output_type": "execute_result"
    }
   ],
   "source": [
    "nn = NearestNeighbors(n_neighbors=3)\n",
    "nn.fit(embeddings)"
   ]
  },
  {
   "cell_type": "code",
   "execution_count": 152,
   "id": "7ad03809",
   "metadata": {},
   "outputs": [],
   "source": [
    "query = 'Did Joe Biden tell people not to vote?'"
   ]
  },
  {
   "cell_type": "code",
   "execution_count": 153,
   "id": "16ccb2aa",
   "metadata": {},
   "outputs": [],
   "source": [
    "target = model.encode(query)"
   ]
  },
  {
   "cell_type": "code",
   "execution_count": 154,
   "id": "a770329e",
   "metadata": {},
   "outputs": [],
   "source": [
    "indices = nn.kneighbors(target[np.newaxis, :], return_distance=False)"
   ]
  },
  {
   "cell_type": "code",
   "execution_count": 155,
   "id": "bb82dac8",
   "metadata": {},
   "outputs": [],
   "source": [
    "news_indices = np.array(sentence_to_id)[indices]"
   ]
  },
  {
   "cell_type": "code",
   "execution_count": 156,
   "id": "4de54628",
   "metadata": {
    "scrolled": true
   },
   "outputs": [],
   "source": [
    "relevant = np.array(sentences)[indices]"
   ]
  },
  {
   "cell_type": "code",
   "execution_count": 157,
   "id": "f8d29815",
   "metadata": {},
   "outputs": [],
   "source": [
    "output = pd.DataFrame({\n",
    "    'title': df.title.iloc[list(news_indices[0])].to_list(),\n",
    "    'sen': relevant[0]\n",
    "})"
   ]
  },
  {
   "cell_type": "code",
   "execution_count": 158,
   "id": "01e16a0e",
   "metadata": {},
   "outputs": [],
   "source": [
    "context = []\n",
    "for i in range(output.shape[0]):\n",
    "    title = output.at[i, 'title']\n",
    "    sen = output.at[i, 'sen']\n",
    "    \n",
    "    context.append(\n",
    "        f'source: {title}\\n{sen}'\n",
    "    )"
   ]
  },
  {
   "cell_type": "code",
   "execution_count": 159,
   "id": "82b7ed02",
   "metadata": {},
   "outputs": [],
   "source": [
    "context = '\\n'.join(context)"
   ]
  },
  {
   "cell_type": "code",
   "execution_count": 160,
   "id": "783abffc",
   "metadata": {},
   "outputs": [],
   "source": [
    "prompt = f\"\"\"Based only on the context:\n",
    "{context}\n",
    "Tell me if this statement is a fact: {query}\n",
    "Your replying format: <Your answer> <evidence in simple words with source>\"\"\""
   ]
  },
  {
   "cell_type": "code",
   "execution_count": 161,
   "id": "c0d9d020",
   "metadata": {},
   "outputs": [
    {
     "name": "stdout",
     "output_type": "stream",
     "text": [
      "Based only on the context:\n",
      "source: Biden’s Gaza problems are deeper than just being interrupted in public\n",
      "“I believe he is beyond redemption,” said Khalid Turaani, 57, a consultant based in Michigan and co-chair of the state’s chapter of the Abandon Biden movement. “I will not vote for Joe Biden. I believe that his complicity and his active participation in the genocide against the Palestinian people in Gaza disqualify him from my vote.”\n",
      "source: Fake Joe Biden robocall urges New Hampshire voters not to vote in Tuesday’s Democratic primary\n",
      "“It’s very apparent that there’s someone, or someones, out there who want to suppress the primary write-in vote on Tuesday, tomorrow, by sending out this robocall saying, ‘Don’t vote for Joe Biden,’ or Joe Biden saying, ‘Don’t vote on Tuesday, save your vote until November,’” said Sullivan. “It’s voter suppression by someone who wants to hurt Joe Biden.”\n",
      "source: Biden slams GOP vote-restriction bills as ‘sick’ and ‘un-American’ while Georgia moves to suppress the vote\n",
      "“I’m not talking about the election officials – I’m talking about voters. Voters,” Biden said in an impassioned reply to a question about the voting rights issue.\n",
      "Tell me if this statement is a fact: Did Joe Biden tell people not to vote?\n",
      "Your replying format: <Your answer> <evidence in simple words with source>\n"
     ]
    }
   ],
   "source": [
    "print(prompt)"
   ]
  },
  {
   "cell_type": "code",
   "execution_count": 163,
   "id": "97e135c9",
   "metadata": {},
   "outputs": [
    {
     "name": "stdout",
     "output_type": "stream",
     "text": [
      "alse. There is no evidence in the provided context that Joe Biden explicitly told people not to vote. The statement referencing not voting for Joe Biden comes from a fake robocall urging New Hampshire voters not to vote for him. Additionally, there is no indication that Biden himself made such a statement. Therefore, based on the evidence provided, the statement that Joe Biden told people not to vote is not factual.\n"
     ]
    }
   ],
   "source": [
    "print(\"\"\"alse. There is no evidence in the provided context that Joe Biden explicitly told people not to vote. The statement referencing not voting for Joe Biden comes from a fake robocall urging New Hampshire voters not to vote for him. Additionally, there is no indication that Biden himself made such a statement. Therefore, based on the evidence provided, the statement that Joe Biden told people not to vote is not factual.\"\"\")"
   ]
  },
  {
   "cell_type": "code",
   "execution_count": null,
   "id": "7f6e2e73",
   "metadata": {},
   "outputs": [],
   "source": []
  }
 ],
 "metadata": {
  "kernelspec": {
   "display_name": "Python 3 (ipykernel)",
   "language": "python",
   "name": "python3"
  },
  "language_info": {
   "codemirror_mode": {
    "name": "ipython",
    "version": 3
   },
   "file_extension": ".py",
   "mimetype": "text/x-python",
   "name": "python",
   "nbconvert_exporter": "python",
   "pygments_lexer": "ipython3",
   "version": "3.9.18"
  }
 },
 "nbformat": 4,
 "nbformat_minor": 5
}
