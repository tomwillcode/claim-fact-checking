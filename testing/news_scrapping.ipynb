{
 "cells": [
  {
   "cell_type": "code",
   "execution_count": 4,
   "metadata": {},
   "outputs": [],
   "source": [
    "google_search_query = (\n",
    "            'site:nytimes.com OR '\n",
    "            'site:bbc.com OR '\n",
    "            'site:cnn.com OR '\n",
    "            'site:washingtonpost.com '\n",
    "            '{query}')"
   ]
  },
  {
   "cell_type": "code",
   "execution_count": 5,
   "metadata": {},
   "outputs": [
    {
     "data": {
      "text/plain": [
       "'site:nytimes.com OR site:bbc.com OR site:cnn.com OR site:washingtonpost.com Elon Musk ask people to invest in crypto'"
      ]
     },
     "execution_count": 5,
     "metadata": {},
     "output_type": "execute_result"
    }
   ],
   "source": [
    "google_search_query.format(query='Elon Musk ask people to invest in crypto')"
   ]
  },
  {
   "cell_type": "markdown",
   "metadata": {
    "id": "5YyuwjrBelwy"
   },
   "source": [
    "https://github.com/MarioVilas/googlesearch"
   ]
  },
  {
   "cell_type": "code",
   "execution_count": 4,
   "metadata": {
    "colab": {
     "base_uri": "https://localhost:8080/"
    },
    "id": "JgtzTrH6dH-J",
    "outputId": "cfa373a3-97a9-403a-dddf-cd80f685f09a"
   },
   "outputs": [
    {
     "name": "stdout",
     "output_type": "stream",
     "text": [
      "Installing collected packages: tinysegmenter, sgmllib3k, PyDispatcher, plac, jieba3k, incremental, hjson, faust-cchardet, dotmap, ago, zope.interface, warcio, w3lib, queuelib, PyMySQL, psycopg2-binary, protego, langdetect, jmespath, itemadapter, hyperlink, hurry.filesize, feedparser, elastic-transport, cssselect, constantly, automat, Twisted, requests-file, readability-lxml, parsel, feedfinder2, elasticsearch, bs4, botocore, tldextract, service-identity, s3transfer, itemloaders, Scrapy, newspaper3k, boto3, news-please\n",
      "Successfully installed PyDispatcher-2.0.7 PyMySQL-1.1.0 Scrapy-2.11.1 Twisted-23.10.0 ago-0.0.95 automat-22.10.0 boto3-1.34.45 botocore-1.34.45 bs4-0.0.2 constantly-23.10.4 cssselect-1.2.0 dotmap-1.3.30 elastic-transport-8.12.0 elasticsearch-8.12.0 faust-cchardet-2.1.19 feedfinder2-0.0.4 feedparser-6.0.11 hjson-3.1.0 hurry.filesize-0.9 hyperlink-21.0.0 incremental-22.10.0 itemadapter-0.8.0 itemloaders-1.1.0 jieba3k-0.35.1 jmespath-1.0.1 langdetect-1.0.9 news-please-1.5.44 newspaper3k-0.2.8 parsel-1.8.1 plac-1.4.2 protego-0.3.0 psycopg2-binary-2.9.9 queuelib-1.6.2 readability-lxml-0.8.1 requests-file-2.0.0 s3transfer-0.10.0 service-identity-24.1.0 sgmllib3k-1.0.0 tinysegmenter-0.3 tldextract-5.1.1 w3lib-2.1.2 warcio-1.7.4 zope.interface-6.2\n"
     ]
    }
   ],
   "source": [
    "!pip install -q google\n",
    "!pip install -q news-please"
   ]
  },
  {
   "cell_type": "code",
   "execution_count": 6,
   "metadata": {
    "id": "2Jdvh_BMdIfn"
   },
   "outputs": [],
   "source": [
    "import pandas as pd\n",
    "from googlesearch import search\n",
    "from newsplease import NewsPlease"
   ]
  },
  {
   "cell_type": "code",
   "execution_count": 7,
   "metadata": {
    "id": "epPr8Qu5f1Il"
   },
   "outputs": [],
   "source": [
    "query = 'Did Joe Biden tell people not to vote?'"
   ]
  },
  {
   "cell_type": "code",
   "execution_count": 11,
   "metadata": {
    "id": "rZnJwhAffdb5"
   },
   "outputs": [],
   "source": [
    "google_search_query = (\n",
    "    'site:nytimes.com OR '\n",
    "    'site:bbc.com OR '\n",
    "    'site:cnn.com OR '\n",
    "    'site:washingtonpost.com '\n",
    "    f'{query}')"
   ]
  },
  {
   "cell_type": "code",
   "execution_count": 14,
   "metadata": {
    "id": "lyfKI2JhdM_F"
   },
   "outputs": [],
   "source": [
    "urls = []\n",
    "for url in search(google_search_query, stop=10, tbs='qdr:y'): # , tbs='qdr:m'\n",
    "    urls.append(url)"
   ]
  },
  {
   "cell_type": "code",
   "execution_count": 15,
   "metadata": {
    "colab": {
     "base_uri": "https://localhost:8080/"
    },
    "id": "dzZVperzf8Fw",
    "outputId": "e1501f27-f213-4486-fc8e-02c95eed01dc"
   },
   "outputs": [
    {
     "data": {
      "text/plain": [
       "['https://www.cnn.com/2024/01/22/politics/fake-joe-biden-robocall/index.html',\n",
       " 'https://www.washingtonpost.com/politics/2024/01/22/biden-robocall-new-hampshire-primary/',\n",
       " 'https://www.bbc.com/news/world-us-canada-68064247',\n",
       " 'https://www.washingtonpost.com/politics/2024/02/20/trump-biden-polling-elelction/',\n",
       " 'https://www.nytimes.com/2023/11/06/opinion/joe-biden-polling.html',\n",
       " 'https://www.cnn.com/2023/11/15/politics/young-voters-joe-biden-georgia-2024/index.html',\n",
       " 'https://www.cnn.com/2023/05/04/politics/youth-vote-gen-z-joe-biden-2024/index.html',\n",
       " 'https://www.cnn.com/2023/03/05/politics/joe-biden-selma-bloody-sunday/index.html',\n",
       " 'https://www.nytimes.com/2024/02/14/us/politics/biden-michigan-gaza-uncommitted.html',\n",
       " 'https://www.cnn.com/videos/politics/2023/11/16/arizona-voters-biden-2024-election-zw-orig.cnn']"
      ]
     },
     "execution_count": 15,
     "metadata": {},
     "output_type": "execute_result"
    }
   ],
   "source": [
    "urls"
   ]
  },
  {
   "cell_type": "code",
   "execution_count": 34,
   "metadata": {
    "id": "7QzkwjnqebXe"
   },
   "outputs": [],
   "source": [
    "context = {\n",
    "    'url': [], 'title': [],\n",
    "    'description': [], 'maintext': [], 'date_publish': []\n",
    "}\n",
    "context['url'] = urls"
   ]
  },
  {
   "cell_type": "code",
   "execution_count": 35,
   "metadata": {
    "id": "JUtH1vtbdRil"
   },
   "outputs": [],
   "source": [
    "for i in range(len(urls)):\n",
    "    article = NewsPlease.from_url(urls[i])\n",
    "    try:\n",
    "        context['title'].append(article.title)\n",
    "        context['description'].append(article.description)\n",
    "        context['maintext'].append(article.maintext)\n",
    "        context['date_publish'].append(article.date_publish)\n",
    "    except:\n",
    "        for key in ['title', 'description', 'maintext', 'date_publish']:\n",
    "            context[key].append('')"
   ]
  },
  {
   "cell_type": "code",
   "execution_count": 36,
   "metadata": {
    "id": "7Ay80bFmeLFN"
   },
   "outputs": [],
   "source": [
    "pd.DataFrame(context).to_csv('joe_biden_multiple_news_OR.csv', index=None)"
   ]
  },
  {
   "cell_type": "code",
   "execution_count": null,
   "metadata": {
    "id": "vbWL4EFyfKXD"
   },
   "outputs": [],
   "source": []
  }
 ],
 "metadata": {
  "colab": {
   "provenance": []
  },
  "kernelspec": {
   "display_name": "Python 3 (ipykernel)",
   "language": "python",
   "name": "python3"
  },
  "language_info": {
   "codemirror_mode": {
    "name": "ipython",
    "version": 3
   },
   "file_extension": ".py",
   "mimetype": "text/x-python",
   "name": "python",
   "nbconvert_exporter": "python",
   "pygments_lexer": "ipython3",
   "version": "3.9.18"
  }
 },
 "nbformat": 4,
 "nbformat_minor": 1
}
