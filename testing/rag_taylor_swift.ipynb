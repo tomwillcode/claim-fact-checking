{
 "cells": [
  {
   "cell_type": "code",
   "execution_count": 1,
   "id": "e42b9f97",
   "metadata": {},
   "outputs": [
    {
     "name": "stderr",
     "output_type": "stream",
     "text": [
      "C:\\Users\\User\\anaconda3\\envs\\claim-fact-check\\lib\\site-packages\\tqdm\\auto.py:21: TqdmWarning: IProgress not found. Please update jupyter and ipywidgets. See https://ipywidgets.readthedocs.io/en/stable/user_install.html\n",
      "  from .autonotebook import tqdm as notebook_tqdm\n"
     ]
    }
   ],
   "source": [
    "import numpy as np\n",
    "import pandas as pd\n",
    "from sklearn.neighbors import NearestNeighbors\n",
    "from sentence_transformers import SentenceTransformer"
   ]
  },
  {
   "cell_type": "code",
   "execution_count": 2,
   "id": "21afc188",
   "metadata": {},
   "outputs": [],
   "source": [
    "import warnings\n",
    "warnings.filterwarnings('ignore')"
   ]
  },
  {
   "cell_type": "code",
   "execution_count": 3,
   "id": "bf34bab2",
   "metadata": {},
   "outputs": [
    {
     "data": {
      "text/html": [
       "<div>\n",
       "<style scoped>\n",
       "    .dataframe tbody tr th:only-of-type {\n",
       "        vertical-align: middle;\n",
       "    }\n",
       "\n",
       "    .dataframe tbody tr th {\n",
       "        vertical-align: top;\n",
       "    }\n",
       "\n",
       "    .dataframe thead th {\n",
       "        text-align: right;\n",
       "    }\n",
       "</style>\n",
       "<table border=\"1\" class=\"dataframe\">\n",
       "  <thead>\n",
       "    <tr style=\"text-align: right;\">\n",
       "      <th></th>\n",
       "      <th>url</th>\n",
       "      <th>title</th>\n",
       "      <th>description</th>\n",
       "      <th>maintext</th>\n",
       "      <th>date_publish</th>\n",
       "    </tr>\n",
       "  </thead>\n",
       "  <tbody>\n",
       "    <tr>\n",
       "      <th>0</th>\n",
       "      <td>https://www.cnn.com/2023/04/09/entertainment/t...</td>\n",
       "      <td>Taylor Swift and Joe Alwyn break up after six ...</td>\n",
       "      <td>Taylor Swift and actor Joe Alwyn have broken u...</td>\n",
       "      <td>CNN —\\nTaylor Swift and actor Joe Alwyn have b...</td>\n",
       "      <td>2023-04-09 17:19:35</td>\n",
       "    </tr>\n",
       "    <tr>\n",
       "      <th>1</th>\n",
       "      <td>https://www.cnn.com/2023/04/10/entertainment/t...</td>\n",
       "      <td>Did Taylor Swift drop a hint about her breakup...</td>\n",
       "      <td>Taylor Swift is known for dropping Easter eggs...</td>\n",
       "      <td>CNN —\\nTaylor Swift is known for dropping East...</td>\n",
       "      <td>2023-04-10 13:43:11</td>\n",
       "    </tr>\n",
       "    <tr>\n",
       "      <th>2</th>\n",
       "      <td>https://www.nytimes.com/2023/04/10/style/taylo...</td>\n",
       "      <td>Taylor Swift Fans Grapple With Breakup Reports</td>\n",
       "      <td>After “Entertainment Tonight” and People publi...</td>\n",
       "      <td>To quote Taylor Swift’s own lyrics, “The rumor...</td>\n",
       "      <td>2023-04-10 20:17:48</td>\n",
       "    </tr>\n",
       "    <tr>\n",
       "      <th>3</th>\n",
       "      <td>https://www.bbc.com/news/newsbeat-67588850</td>\n",
       "      <td>Taylor Swift: Publicist denies star secretly m...</td>\n",
       "      <td>Tree Paine has been part of the singer's team ...</td>\n",
       "      <td>Taylor Swift: Publicist denies star secretly m...</td>\n",
       "      <td>2023-12-01 11:14:18</td>\n",
       "    </tr>\n",
       "    <tr>\n",
       "      <th>4</th>\n",
       "      <td>https://www.nytimes.com/interactive/2023/08/11...</td>\n",
       "      <td>Taylor Swift’s Viral Era</td>\n",
       "      <td>Fan demand broke Ticketmaster, and that was ju...</td>\n",
       "      <td>Fan demand broke Ticketmaster, and that was ju...</td>\n",
       "      <td>2023-08-11 15:41:36</td>\n",
       "    </tr>\n",
       "  </tbody>\n",
       "</table>\n",
       "</div>"
      ],
      "text/plain": [
       "                                                 url  \\\n",
       "0  https://www.cnn.com/2023/04/09/entertainment/t...   \n",
       "1  https://www.cnn.com/2023/04/10/entertainment/t...   \n",
       "2  https://www.nytimes.com/2023/04/10/style/taylo...   \n",
       "3         https://www.bbc.com/news/newsbeat-67588850   \n",
       "4  https://www.nytimes.com/interactive/2023/08/11...   \n",
       "\n",
       "                                               title  \\\n",
       "0  Taylor Swift and Joe Alwyn break up after six ...   \n",
       "1  Did Taylor Swift drop a hint about her breakup...   \n",
       "2     Taylor Swift Fans Grapple With Breakup Reports   \n",
       "3  Taylor Swift: Publicist denies star secretly m...   \n",
       "4                           Taylor Swift’s Viral Era   \n",
       "\n",
       "                                         description  \\\n",
       "0  Taylor Swift and actor Joe Alwyn have broken u...   \n",
       "1  Taylor Swift is known for dropping Easter eggs...   \n",
       "2  After “Entertainment Tonight” and People publi...   \n",
       "3  Tree Paine has been part of the singer's team ...   \n",
       "4  Fan demand broke Ticketmaster, and that was ju...   \n",
       "\n",
       "                                            maintext         date_publish  \n",
       "0  CNN —\\nTaylor Swift and actor Joe Alwyn have b...  2023-04-09 17:19:35  \n",
       "1  CNN —\\nTaylor Swift is known for dropping East...  2023-04-10 13:43:11  \n",
       "2  To quote Taylor Swift’s own lyrics, “The rumor...  2023-04-10 20:17:48  \n",
       "3  Taylor Swift: Publicist denies star secretly m...  2023-12-01 11:14:18  \n",
       "4  Fan demand broke Ticketmaster, and that was ju...  2023-08-11 15:41:36  "
      ]
     },
     "execution_count": 3,
     "metadata": {},
     "output_type": "execute_result"
    }
   ],
   "source": [
    "df = pd.read_csv('taylor_swift_multiple_news_OR.csv')\n",
    "df.head()"
   ]
  },
  {
   "cell_type": "code",
   "execution_count": 9,
   "id": "29a1508f",
   "metadata": {},
   "outputs": [],
   "source": [
    "df = df.dropna()"
   ]
  },
  {
   "cell_type": "code",
   "execution_count": 10,
   "id": "dbeeb9e2",
   "metadata": {},
   "outputs": [],
   "source": [
    "sentences = df.maintext.apply(lambda x: x.split('\\n')) # df.maintext.apply(split_into_sentences)\n",
    "sentences = [sentence for lst in sentences for sentence in lst]"
   ]
  },
  {
   "cell_type": "code",
   "execution_count": 14,
   "id": "4f0d46b9",
   "metadata": {},
   "outputs": [],
   "source": [
    "numbers_of_sentences = df.maintext.apply(lambda x: x.split('\\n')).apply(len)\n",
    "\n",
    "sentence_to_id = []\n",
    "for i, num in enumerate(numbers_of_sentences):\n",
    "    sentence_to_id += [i] * num\n",
    "    \n",
    "assert len(sentences)==len(sentence_to_id)"
   ]
  },
  {
   "cell_type": "code",
   "execution_count": 15,
   "id": "ae424539",
   "metadata": {},
   "outputs": [],
   "source": [
    "model = SentenceTransformer('sentence-transformers/all-MiniLM-L6-v2')"
   ]
  },
  {
   "cell_type": "code",
   "execution_count": 16,
   "id": "5b84b61b",
   "metadata": {},
   "outputs": [],
   "source": [
    "embeddings = model.encode(sentences)"
   ]
  },
  {
   "cell_type": "code",
   "execution_count": 17,
   "id": "90776db1",
   "metadata": {},
   "outputs": [
    {
     "data": {
      "text/html": [
       "<style>#sk-container-id-1 {color: black;}#sk-container-id-1 pre{padding: 0;}#sk-container-id-1 div.sk-toggleable {background-color: white;}#sk-container-id-1 label.sk-toggleable__label {cursor: pointer;display: block;width: 100%;margin-bottom: 0;padding: 0.3em;box-sizing: border-box;text-align: center;}#sk-container-id-1 label.sk-toggleable__label-arrow:before {content: \"▸\";float: left;margin-right: 0.25em;color: #696969;}#sk-container-id-1 label.sk-toggleable__label-arrow:hover:before {color: black;}#sk-container-id-1 div.sk-estimator:hover label.sk-toggleable__label-arrow:before {color: black;}#sk-container-id-1 div.sk-toggleable__content {max-height: 0;max-width: 0;overflow: hidden;text-align: left;background-color: #f0f8ff;}#sk-container-id-1 div.sk-toggleable__content pre {margin: 0.2em;color: black;border-radius: 0.25em;background-color: #f0f8ff;}#sk-container-id-1 input.sk-toggleable__control:checked~div.sk-toggleable__content {max-height: 200px;max-width: 100%;overflow: auto;}#sk-container-id-1 input.sk-toggleable__control:checked~label.sk-toggleable__label-arrow:before {content: \"▾\";}#sk-container-id-1 div.sk-estimator input.sk-toggleable__control:checked~label.sk-toggleable__label {background-color: #d4ebff;}#sk-container-id-1 div.sk-label input.sk-toggleable__control:checked~label.sk-toggleable__label {background-color: #d4ebff;}#sk-container-id-1 input.sk-hidden--visually {border: 0;clip: rect(1px 1px 1px 1px);clip: rect(1px, 1px, 1px, 1px);height: 1px;margin: -1px;overflow: hidden;padding: 0;position: absolute;width: 1px;}#sk-container-id-1 div.sk-estimator {font-family: monospace;background-color: #f0f8ff;border: 1px dotted black;border-radius: 0.25em;box-sizing: border-box;margin-bottom: 0.5em;}#sk-container-id-1 div.sk-estimator:hover {background-color: #d4ebff;}#sk-container-id-1 div.sk-parallel-item::after {content: \"\";width: 100%;border-bottom: 1px solid gray;flex-grow: 1;}#sk-container-id-1 div.sk-label:hover label.sk-toggleable__label {background-color: #d4ebff;}#sk-container-id-1 div.sk-serial::before {content: \"\";position: absolute;border-left: 1px solid gray;box-sizing: border-box;top: 0;bottom: 0;left: 50%;z-index: 0;}#sk-container-id-1 div.sk-serial {display: flex;flex-direction: column;align-items: center;background-color: white;padding-right: 0.2em;padding-left: 0.2em;position: relative;}#sk-container-id-1 div.sk-item {position: relative;z-index: 1;}#sk-container-id-1 div.sk-parallel {display: flex;align-items: stretch;justify-content: center;background-color: white;position: relative;}#sk-container-id-1 div.sk-item::before, #sk-container-id-1 div.sk-parallel-item::before {content: \"\";position: absolute;border-left: 1px solid gray;box-sizing: border-box;top: 0;bottom: 0;left: 50%;z-index: -1;}#sk-container-id-1 div.sk-parallel-item {display: flex;flex-direction: column;z-index: 1;position: relative;background-color: white;}#sk-container-id-1 div.sk-parallel-item:first-child::after {align-self: flex-end;width: 50%;}#sk-container-id-1 div.sk-parallel-item:last-child::after {align-self: flex-start;width: 50%;}#sk-container-id-1 div.sk-parallel-item:only-child::after {width: 0;}#sk-container-id-1 div.sk-dashed-wrapped {border: 1px dashed gray;margin: 0 0.4em 0.5em 0.4em;box-sizing: border-box;padding-bottom: 0.4em;background-color: white;}#sk-container-id-1 div.sk-label label {font-family: monospace;font-weight: bold;display: inline-block;line-height: 1.2em;}#sk-container-id-1 div.sk-label-container {text-align: center;}#sk-container-id-1 div.sk-container {/* jupyter's `normalize.less` sets `[hidden] { display: none; }` but bootstrap.min.css set `[hidden] { display: none !important; }` so we also need the `!important` here to be able to override the default hidden behavior on the sphinx rendered scikit-learn.org. See: https://github.com/scikit-learn/scikit-learn/issues/21755 */display: inline-block !important;position: relative;}#sk-container-id-1 div.sk-text-repr-fallback {display: none;}</style><div id=\"sk-container-id-1\" class=\"sk-top-container\"><div class=\"sk-text-repr-fallback\"><pre>NearestNeighbors(n_neighbors=3)</pre><b>In a Jupyter environment, please rerun this cell to show the HTML representation or trust the notebook. <br />On GitHub, the HTML representation is unable to render, please try loading this page with nbviewer.org.</b></div><div class=\"sk-container\" hidden><div class=\"sk-item\"><div class=\"sk-estimator sk-toggleable\"><input class=\"sk-toggleable__control sk-hidden--visually\" id=\"sk-estimator-id-1\" type=\"checkbox\" checked><label for=\"sk-estimator-id-1\" class=\"sk-toggleable__label sk-toggleable__label-arrow\">NearestNeighbors</label><div class=\"sk-toggleable__content\"><pre>NearestNeighbors(n_neighbors=3)</pre></div></div></div></div></div>"
      ],
      "text/plain": [
       "NearestNeighbors(n_neighbors=3)"
      ]
     },
     "execution_count": 17,
     "metadata": {},
     "output_type": "execute_result"
    }
   ],
   "source": [
    "nn = NearestNeighbors(n_neighbors=3)\n",
    "nn.fit(embeddings)"
   ]
  },
  {
   "cell_type": "code",
   "execution_count": 18,
   "id": "7ad03809",
   "metadata": {},
   "outputs": [],
   "source": [
    "query = \"Did Taylor Swift recently break up with Joe Alywn?\""
   ]
  },
  {
   "cell_type": "code",
   "execution_count": 19,
   "id": "16ccb2aa",
   "metadata": {},
   "outputs": [],
   "source": [
    "target = model.encode(query)"
   ]
  },
  {
   "cell_type": "code",
   "execution_count": 20,
   "id": "a770329e",
   "metadata": {},
   "outputs": [],
   "source": [
    "indices = nn.kneighbors(target[np.newaxis, :], return_distance=False)"
   ]
  },
  {
   "cell_type": "code",
   "execution_count": 21,
   "id": "4de54628",
   "metadata": {
    "scrolled": true
   },
   "outputs": [],
   "source": [
    "relevant = np.array(sentences)[indices]\n",
    "relevant = '. '.join(relevant[0])"
   ]
  },
  {
   "cell_type": "code",
   "execution_count": 22,
   "id": "783abffc",
   "metadata": {},
   "outputs": [],
   "source": [
    "prompt = f\"\"\"Based only on the context: {relevant}\n",
    "Tell me if this statement is true/false: {query}\n",
    "Answer in this format: <evidences in simple words> <conclude true/false>\"\"\""
   ]
  },
  {
   "cell_type": "code",
   "execution_count": 23,
   "id": "c0d9d020",
   "metadata": {},
   "outputs": [
    {
     "name": "stdout",
     "output_type": "stream",
     "text": [
      "Based only on the context: Taylor Swift and actor Joe Alwyn have broken up after six years together.. A source close to Taylor confirmed the news to CNN saying “Taylor and Joe broke up a few weeks ago. They simply grew apart and plan to remain friends.”. Taylor Swift's publicist has hit out at rumours that the popstar secretly married ex-partner Joe Alwyn.\n",
      "Tell me if this statement is true/false: Did Taylor Swift recently break up with Joe Alywn?\n",
      "Answer in this format: <evidences in simple words> <conclude true/false>\n"
     ]
    }
   ],
   "source": [
    "print(prompt)"
   ]
  },
  {
   "cell_type": "code",
   "execution_count": 27,
   "id": "97e135c9",
   "metadata": {},
   "outputs": [
    {
     "name": "stdout",
     "output_type": "stream",
     "text": [
      "True. The evidence provided states that Taylor Swift and Joe Alwyn have indeed broken up. A source close to Taylor confirmed the news to CNN, mentioning that they broke up a few weeks ago. Additionally, Taylor Swift's publicist addressed rumors about her secretly marrying Joe Alwyn, which implies that they are no longer together. Therefore, based on the evidence, it is true that Taylor Swift recently broke up with Joe Alwyn.\n"
     ]
    }
   ],
   "source": [
    "print(\"True. The evidence provided states that Taylor Swift and Joe Alwyn have indeed broken up. A source close to Taylor confirmed the news to CNN, mentioning that they broke up a few weeks ago. Additionally, Taylor Swift's publicist addressed rumors about her secretly marrying Joe Alwyn, which implies that they are no longer together. Therefore, based on the evidence, it is true that Taylor Swift recently broke up with Joe Alwyn.\")"
   ]
  },
  {
   "cell_type": "code",
   "execution_count": null,
   "id": "3bde7bc3",
   "metadata": {},
   "outputs": [],
   "source": []
  }
 ],
 "metadata": {
  "kernelspec": {
   "display_name": "Python 3 (ipykernel)",
   "language": "python",
   "name": "python3"
  },
  "language_info": {
   "codemirror_mode": {
    "name": "ipython",
    "version": 3
   },
   "file_extension": ".py",
   "mimetype": "text/x-python",
   "name": "python",
   "nbconvert_exporter": "python",
   "pygments_lexer": "ipython3",
   "version": "3.9.18"
  }
 },
 "nbformat": 4,
 "nbformat_minor": 5
}
